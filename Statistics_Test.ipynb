{
 "cells": [
  {
   "cell_type": "code",
   "execution_count": 4,
   "metadata": {},
   "outputs": [],
   "source": [
    "import pandas as pd\n",
    "import statsmodels.tsa.stattools as ts\n",
    "from datetime import datetime"
   ]
  },
  {
   "cell_type": "code",
   "execution_count": 20,
   "metadata": {},
   "outputs": [
    {
     "data": {
      "text/plain": [
       "(142610, 6)"
      ]
     },
     "execution_count": 20,
     "metadata": {},
     "output_type": "execute_result"
    }
   ],
   "source": [
    "data=pd.read_csv('KDSH_Data/btc_6h.csv',parse_dates=[0])\n",
    "data.shape"
   ]
  },
  {
   "cell_type": "code",
   "execution_count": 17,
   "metadata": {},
   "outputs": [
    {
     "data": {
      "text/plain": [
       "(-0.9880136024126057,\n",
       " 0.7576109208462923,\n",
       " 1,\n",
       " 142608,\n",
       " {'1%': -3.430395855896662,\n",
       "  '5%': -2.861560267654632,\n",
       "  '10%': -2.5667807877517204},\n",
       " 1758023.3932850289)"
      ]
     },
     "execution_count": 17,
     "metadata": {},
     "output_type": "execute_result"
    }
   ],
   "source": [
    "ts.adfuller(data['Close'],1)"
   ]
  },
  {
   "cell_type": "code",
   "execution_count": 18,
   "metadata": {},
   "outputs": [],
   "source": [
    "#Hurst exponent"
   ]
  },
  {
   "cell_type": "code",
   "execution_count": 19,
   "metadata": {},
   "outputs": [
    {
     "name": "stdout",
     "output_type": "stream",
     "text": [
      "Hurst(GBM):0.4900574019710875\n",
      "Hurst(MR):0.0003074028728272976\n",
      "Hurst(TR):0.9529691503591796\n",
      "Hurst(DATA): -6.0835001111110904e-15\n"
     ]
    }
   ],
   "source": [
    "from numpy import cumsum, log, polyfit, sqrt, std, subtract\n",
    "from numpy.random import randn\n",
    "def hurst(ts):\n",
    "\n",
    "    # Create the range of lag values\n",
    "    lags = range(2, 100)\n",
    "    # Calculate the array of the variances of the lagged differences\n",
    "    tau = [sqrt(std(subtract(ts[lag:], ts[:-lag]))) for lag in lags]\n",
    "    tau = [max(t, 1e-10) for t in tau]\n",
    "    # Use a linear fit to estimate the Hurst Exponent\n",
    "    poly = polyfit(log(lags), log(tau), 1)\n",
    "    # Return the Hurst exponent from the polyfit output\n",
    "    return poly[0]*2.0\n",
    "# Create a Gometric Brownian Motion, Mean-Reverting and Trending Series\n",
    "gbm = log(cumsum(randn(100000))+1000)\n",
    "mr = log(randn(100000)+1000)\n",
    "tr = log(cumsum(randn(100000)+1)+1000)\n",
    "    # Output the Hurst Exponent for each of the above series\n",
    "    # and the price of Amazon (the Adjusted Close price) for\n",
    "# the ADF test given above in the article\n",
    "print(\"Hurst(GBM):%s\" % hurst(gbm))\n",
    "print(\"Hurst(MR):%s\" % hurst(mr))\n",
    "print(\"Hurst(TR):%s\" % hurst(tr))\n",
    "print(\"Hurst(DATA): %s\" % hurst(data['Close']))"
   ]
  }
 ],
 "metadata": {
  "kernelspec": {
   "display_name": "hackathon",
   "language": "python",
   "name": "python3"
  },
  "language_info": {
   "codemirror_mode": {
    "name": "ipython",
    "version": 3
   },
   "file_extension": ".py",
   "mimetype": "text/x-python",
   "name": "python",
   "nbconvert_exporter": "python",
   "pygments_lexer": "ipython3",
   "version": "3.11.4"
  }
 },
 "nbformat": 4,
 "nbformat_minor": 2
}
